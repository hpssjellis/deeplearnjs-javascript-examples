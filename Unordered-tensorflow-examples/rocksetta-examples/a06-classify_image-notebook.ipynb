{
 "cells": [
  {
   "cell_type": "code",
   "execution_count": null,
   "metadata": {
    "collapsed": true
   },
   "outputs": [],
   "source": [
    "%autosave 0\n",
    "#Enter a bash command below and click run to activate\n",
    "!python /home/ubuntu/workspace/tensorflow/tensorflow/models/image/imagenet/classify_image.py"
   ]
  },
  {
   "cell_type": "code",
   "execution_count": null,
   "metadata": {
    "collapsed": true
   },
   "outputs": [],
   "source": [
    "#Enter a python file to load and edit. Changes will be automatically saved!\n",
    "%load /home/ubuntu/workspace/tensorflow/tensorflow/models/image/imagenet/classify_image.py"
   ]
  }
 ],
 "metadata": {
  "kernelspec": {
   "display_name": "Python 2",
   "language": "python",
   "name": "python2"
  },
  "language_info": {
   "codemirror_mode": {
    "name": "ipython",
    "version": 2
   },
   "file_extension": ".py",
   "mimetype": "text/x-python",
   "name": "python",
   "nbconvert_exporter": "python",
   "pygments_lexer": "ipython2",
   "version": "2.7.6"
  }
 },
 "nbformat": 4,
 "nbformat_minor": 0
}
