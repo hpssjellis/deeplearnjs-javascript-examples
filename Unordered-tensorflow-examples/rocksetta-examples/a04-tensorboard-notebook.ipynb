{
 "cells": [
  {
   "cell_type": "code",
   "execution_count": null,
   "metadata": {
    "collapsed": true
   },
   "outputs": [],
   "source": [
    "%autosave 0\n",
    "#Run both this and the next cell but click this link to go to Tensorboard\n",
    "!echo \"http://$C9_HOSTNAME:8081/\""
   ]
  },
  {
   "cell_type": "code",
   "execution_count": null,
   "metadata": {
    "collapsed": true
   },
   "outputs": [],
   "source": [
    "#Run the following to activate Tensorboard, but click the above link to go to it\n",
    "!tensorboard --logdir=/home/ubuntu/workspace/tmp5 --host $IP --port=8081"
   ]
  }
 ],
 "metadata": {
  "kernelspec": {
   "display_name": "Python 2",
   "language": "python",
   "name": "python2"
  },
  "language_info": {
   "codemirror_mode": {
    "name": "ipython",
    "version": 2
   },
   "file_extension": ".py",
   "mimetype": "text/x-python",
   "name": "python",
   "nbconvert_exporter": "python",
   "pygments_lexer": "ipython2",
   "version": "2.7.6"
  }
 },
 "nbformat": 4,
 "nbformat_minor": 0
}
