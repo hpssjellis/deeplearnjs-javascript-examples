{
 "cells": [
  {
   "cell_type": "code",
   "execution_count": null,
   "metadata": {},
   "outputs": [],
   "source": [
    "\"\"\"Simple tutorial following the TensorFlow example of a Convolutional Network.\n",
    "\n",
    "Parag K. Mital, Jan. 2016\"\"\""
   ]
  },
  {
   "cell_type": "code",
   "execution_count": null,
   "metadata": {},
   "outputs": [],
   "source": [
    "# %% Imports\n",
    "import tensorflow as tf\n",
    "import tensorflow.examples.tutorials.mnist.input_data as input_data\n",
    "from libs.utils import *\n",
    "import matplotlib.pyplot as plt"
   ]
  },
  {
   "cell_type": "code",
   "execution_count": null,
   "metadata": {},
   "outputs": [],
   "source": [
    "# %% Setup input to the network and true output label.  These are\n",
    "# simply placeholders which we'll fill in later.\n",
    "mnist = input_data.read_data_sets('MNIST_data/', one_hot=True)\n",
    "x = tf.placeholder(tf.float32, [None, 784])\n",
    "y = tf.placeholder(tf.float32, [None, 10])"
   ]
  },
  {
   "cell_type": "code",
   "execution_count": null,
   "metadata": {},
   "outputs": [],
   "source": [
    "# %% Since x is currently [batch, height*width], we need to reshape to a\n",
    "# 4-D tensor to use it in a convolutional graph.  If one component of\n",
    "# `shape` is the special value -1, the size of that dimension is\n",
    "# computed so that the total size remains constant.  Since we haven't\n",
    "# defined the batch dimension's shape yet, we use -1 to denote this\n",
    "# dimension should not change size.\n",
    "x_tensor = tf.reshape(x, [-1, 28, 28, 1])"
   ]
  },
  {
   "cell_type": "code",
   "execution_count": null,
   "metadata": {},
   "outputs": [],
   "source": [
    "# %% We'll setup the first convolutional layer\n",
    "# Weight matrix is [height x width x input_channels x output_channels]\n",
    "filter_size = 5\n",
    "n_filters_1 = 16\n",
    "W_conv1 = weight_variable([filter_size, filter_size, 1, n_filters_1])"
   ]
  },
  {
   "cell_type": "code",
   "execution_count": null,
   "metadata": {},
   "outputs": [],
   "source": [
    "# %% Bias is [output_channels]\n",
    "b_conv1 = bias_variable([n_filters_1])"
   ]
  },
  {
   "cell_type": "code",
   "execution_count": null,
   "metadata": {},
   "outputs": [],
   "source": [
    "# %% Now we can build a graph which does the first layer of convolution:\n",
    "# we define our stride as batch x height x width x channels\n",
    "# instead of pooling, we use strides of 2 and more layers\n",
    "# with smaller filters.\n",
    "h_conv1 = tf.nn.relu(\n",
    "    tf.nn.conv2d(input=x_tensor,\n",
    "                 filter=W_conv1,\n",
    "                 strides=[1, 2, 2, 1],\n",
    "                 padding='SAME') +\n",
    "    b_conv1)"
   ]
  },
  {
   "cell_type": "code",
   "execution_count": null,
   "metadata": {},
   "outputs": [],
   "source": [
    "# %% And just like the first layer, add additional layers to create\n",
    "# a deep net\n",
    "n_filters_2 = 16\n",
    "W_conv2 = weight_variable([filter_size, filter_size, n_filters_1, n_filters_2])\n",
    "b_conv2 = bias_variable([n_filters_2])\n",
    "h_conv2 = tf.nn.relu(\n",
    "    tf.nn.conv2d(input=h_conv1,\n",
    "                 filter=W_conv2,\n",
    "                 strides=[1, 2, 2, 1],\n",
    "                 padding='SAME') +\n",
    "    b_conv2)"
   ]
  },
  {
   "cell_type": "code",
   "execution_count": null,
   "metadata": {},
   "outputs": [],
   "source": [
    "# %% We'll now reshape so we can connect to a fully-connected layer:\n",
    "h_conv2_flat = tf.reshape(h_conv2, [-1, 7 * 7 * n_filters_2])"
   ]
  },
  {
   "cell_type": "code",
   "execution_count": null,
   "metadata": {},
   "outputs": [],
   "source": [
    "# %% Create a fully-connected layer:\n",
    "n_fc = 1024\n",
    "W_fc1 = weight_variable([7 * 7 * n_filters_2, n_fc])\n",
    "b_fc1 = bias_variable([n_fc])\n",
    "h_fc1 = tf.nn.relu(tf.matmul(h_conv2_flat, W_fc1) + b_fc1)"
   ]
  },
  {
   "cell_type": "code",
   "execution_count": null,
   "metadata": {},
   "outputs": [],
   "source": [
    "# %% We can add dropout for regularizing and to reduce overfitting like so:\n",
    "keep_prob = tf.placeholder(tf.float32)\n",
    "h_fc1_drop = tf.nn.dropout(h_fc1, keep_prob)"
   ]
  },
  {
   "cell_type": "code",
   "execution_count": null,
   "metadata": {},
   "outputs": [],
   "source": [
    "# %% And finally our softmax layer:\n",
    "W_fc2 = weight_variable([n_fc, 10])\n",
    "b_fc2 = bias_variable([10])\n",
    "y_pred = tf.nn.softmax(tf.matmul(h_fc1_drop, W_fc2) + b_fc2)"
   ]
  },
  {
   "cell_type": "code",
   "execution_count": null,
   "metadata": {},
   "outputs": [],
   "source": [
    "# %% Define loss/eval/training functions\n",
    "cross_entropy = -tf.reduce_sum(y * tf.log(y_pred))\n",
    "optimizer = tf.train.AdamOptimizer().minimize(cross_entropy)"
   ]
  },
  {
   "cell_type": "code",
   "execution_count": null,
   "metadata": {},
   "outputs": [],
   "source": [
    "# %% Monitor accuracy\n",
    "correct_prediction = tf.equal(tf.argmax(y_pred, 1), tf.argmax(y, 1))\n",
    "accuracy = tf.reduce_mean(tf.cast(correct_prediction, 'float'))"
   ]
  },
  {
   "cell_type": "code",
   "execution_count": null,
   "metadata": {},
   "outputs": [],
   "source": [
    "# %% We now create a new session to actually perform the initialization the\n",
    "# variables:\n",
    "sess = tf.Session()\n",
    "sess.run(tf.initialize_all_variables())"
   ]
  },
  {
   "cell_type": "code",
   "execution_count": null,
   "metadata": {},
   "outputs": [],
   "source": [
    "# %% We'll train in minibatches and report accuracy:\n",
    "batch_size = 100\n",
    "n_epochs = 5\n",
    "for epoch_i in range(n_epochs):\n",
    "    for batch_i in range(mnist.train.num_examples // batch_size):\n",
    "        batch_xs, batch_ys = mnist.train.next_batch(batch_size)\n",
    "        sess.run(optimizer, feed_dict={\n",
    "            x: batch_xs, y: batch_ys, keep_prob: 0.5})\n",
    "    print(sess.run(accuracy,\n",
    "                   feed_dict={\n",
    "                       x: mnist.validation.images,\n",
    "                       y: mnist.validation.labels,\n",
    "                       keep_prob: 1.0\n",
    "                   }))"
   ]
  },
  {
   "cell_type": "code",
   "execution_count": null,
   "metadata": {},
   "outputs": [],
   "source": [
    "# %% Let's take a look at the kernels we've learned\n",
    "W = sess.run(W_conv1)\n",
    "plt.imshow(montage(W / np.max(W)), cmap='coolwarm')"
   ]
  }
 ],
 "metadata": {
  "language": "python"
 },
 "nbformat": 4,
 "nbformat_minor": 0
}
